{
  "nbformat": 4,
  "nbformat_minor": 0,
  "metadata": {
    "colab": {
      "name": "DMML2020_Project_Alpina_Text_Processing.ipynb",
      "provenance": [],
      "collapsed_sections": [],
      "authorship_tag": "ABX9TyPsfs8pAU/VMtn2fzPK5tuZ",
      "include_colab_link": true
    },
    "kernelspec": {
      "name": "python3",
      "display_name": "Python 3"
    }
  },
  "cells": [
    {
      "cell_type": "markdown",
      "metadata": {
        "id": "view-in-github",
        "colab_type": "text"
      },
      "source": [
        "<a href=\"https://colab.research.google.com/github/mbayle98/DMML2020-Alpina/blob/main/DMML2020_Project_Alpina_Text_Processing.ipynb\" target=\"_parent\"><img src=\"https://colab.research.google.com/assets/colab-badge.svg\" alt=\"Open In Colab\"/></a>"
      ]
    },
    {
      "cell_type": "markdown",
      "metadata": {
        "id": "ZfosW8Yzbuar"
      },
      "source": [
        "# **Group project: Real or Not? NLP with Disaster Tweets**\n",
        "## **Data Mining & Machine Learning 2020 - University of Lausanne**\n",
        "## **Group Alpina [AIcrowd]**"
      ]
    },
    {
      "cell_type": "markdown",
      "metadata": {
        "id": "cR-NQPB0b50U"
      },
      "source": [
        "## 📄 **Text Processing**"
      ]
    },
    {
      "cell_type": "markdown",
      "metadata": {
        "id": "M-khNcwSb16P"
      },
      "source": [
        "### 📦 **Import Required Libraries**"
      ]
    },
    {
      "cell_type": "code",
      "metadata": {
        "id": "jybSbjgEbwL-"
      },
      "source": [
        "import re"
      ],
      "execution_count": 2,
      "outputs": []
    },
    {
      "cell_type": "code",
      "metadata": {
        "id": "XFkYMkaGcbgJ"
      },
      "source": [
        "def bin_username(tweet):\n",
        "    tweet = ' '.join(re.sub(\"(@[A-Za-z0-9]+)|([^0-9A-Za-z \\t])|([0-9]+)\",\" \", tweet).split())\n",
        "    #tweet = ' '.join(re.sub(\"(#[A-Za-z0-9]+)\",\" \", tweet).split())\n",
        "    return tweet\n",
        "\n",
        "#df1['text'] = df1['text'].apply(lambda x: bin_username(x))"
      ],
      "execution_count": 4,
      "outputs": []
    },
    {
      "cell_type": "code",
      "metadata": {
        "id": "H5W4QOXccsEg"
      },
      "source": [
        "def bin(tweet):\n",
        "    tweet = ' '.join(re.sub(\"http://[A-Za-z0-9]\",\" \", tweet).split())\n",
        "    tweet = ' '.join(re.sub(\"HTTP://[A-Za-z0-9]\",\" \", tweet).split())\n",
        "    tweet = ' '.join(re.sub(\"HTTPS://[A-Za-z0-9]\",\" \", tweet).split())\n",
        "    tweet = ' '.join(re.sub(\"https://[A-Za-z0-9]\",\" \", tweet).split())\n",
        "    return tweet\n",
        "\n",
        "#df1['text'] = df1['text'].apply(lambda x: bin(x))"
      ],
      "execution_count": 5,
      "outputs": []
    },
    {
      "cell_type": "code",
      "metadata": {
        "id": "86vC_5_nc4Cu"
      },
      "source": [
        "def text_cleaning():\n",
        "  return df1['text'].apply(lambda x: bin_username(x)), df1['text'].apply(lambda x: bin(x))"
      ],
      "execution_count": 7,
      "outputs": []
    },
    {
      "cell_type": "code",
      "metadata": {
        "id": "8qCWwEejdzYk"
      },
      "source": [
        ""
      ],
      "execution_count": null,
      "outputs": []
    }
  ]
}